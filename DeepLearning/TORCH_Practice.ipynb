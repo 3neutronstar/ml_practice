{
  "nbformat": 4,
  "nbformat_minor": 0,
  "metadata": {
    "colab": {
      "name": "TORCH Practice.ipynb",
      "provenance": []
    },
    "kernelspec": {
      "name": "python3",
      "display_name": "Python 3"
    },
    "accelerator": "GPU"
  },
  "cells": [
    {
      "cell_type": "code",
      "metadata": {
        "id": "NbIu3zI8KqBp",
        "colab_type": "code",
        "colab": {}
      },
      "source": [
        "import torch\n",
        "\n",
        "# torch machine learning 형태\n",
        "x,y=get_data() # x는 훈련데이터, y는 목표변수\n",
        "w,b=get_weights() # w 는 가중치 b는 bias\n",
        "for i in range(50000): # 50000번 반복\n",
        "  y_pred=simple_network(x) # wx+b=y_pred 의 simple network\n",
        "  loss=loss_fn(y,y_pred) # loss function은 MSE 연산 (제곱 합 계산)\n",
        "  if i% 5000==0: # 5000step마다 출력\n",
        "    print(loss)\n",
        "  optimize(learning_rate) # w,b파라미터 조정\n",
        "####This section is not operating####"
      ],
      "execution_count": null,
      "outputs": []
    },
    {
      "cell_type": "code",
      "metadata": {
        "id": "HLpd1hcIMfEF",
        "colab_type": "code",
        "colab": {
          "base_uri": "https://localhost:8080/",
          "height": 215
        },
        "outputId": "fa9ed1cf-1930-49b3-de8e-4ff7328f85e1"
      },
      "source": [
        "import torch\n",
        "'''Tensor\n",
        "Scalar: 0dim tensor\n",
        "Vector: 1dim Tensor\n",
        "Matrix: 2dim Tensor\n",
        "Image : 3dim Tensor\n",
        "-> usually use 5dims in deep learning\n",
        "'''\n",
        "\n",
        "# 0dim Tensor\n",
        "x=torch.tensor(10)\n",
        "print(\"0 dim Tensor\",x)\n",
        "print(\"Dimension: \",x.dim())\n",
        "\n",
        "# 1dim Tensor :Vector\n",
        "# -> Float, Long type tensor\n",
        "x=torch.rand(10) # 10개의 0부터1을 뽑음\n",
        "print(x)\n",
        "print(\"Dimension: \",x.dim())\n",
        "\n",
        "temp = torch.FloatTensor([23,24,24.5,26,27,27,23.3]) \n",
        "print(\"Tensor size: \", temp.size())\n",
        "\n",
        "# 2 dim Tenro : Matrix\n",
        "z=torch.rand([20,10])\n",
        "print(\"z tensor size:\", z.size())\n",
        "print(z[:2])\n",
        "\n",
        "# 3 dim Tensor: Image\n",
        "\"\"\"\n",
        "3차원은 표기하기 힘드므로 예제\n",
        "from PIL import Image\n",
        "x= np.array(Image,open('panda.jpg').resize(224,224))\n",
        "x_tensor=torch.from_numpy(x) # torch의 tensor로 np 변경\n",
        "plt.imshow(x)\n",
        "\"\"\""
      ],
      "execution_count": null,
      "outputs": [
        {
          "output_type": "stream",
          "text": [
            "0 dim Tensor tensor(10)\n",
            "Dimension:  0\n",
            "tensor([0.5907, 0.6854, 0.3301, 0.3051, 0.1083, 0.9758, 0.4530, 0.3957, 0.8323,\n",
            "        0.2123])\n",
            "Dimension:  1\n",
            "Tensor size:  torch.Size([7])\n",
            "z tensor size: torch.Size([20, 10])\n",
            "tensor([[0.7937, 0.0803, 0.9679, 0.5490, 0.7160, 0.2541, 0.6349, 0.7771, 0.5299,\n",
            "         0.3332],\n",
            "        [0.8393, 0.7855, 0.9882, 0.8230, 0.5843, 0.1193, 0.8878, 0.0728, 0.8311,\n",
            "         0.4179]])\n"
          ],
          "name": "stdout"
        }
      ]
    },
    {
      "cell_type": "code",
      "metadata": {
        "id": "mH13wL8oT7eh",
        "colab_type": "code",
        "colab": {
          "base_uri": "https://localhost:8080/",
          "height": 35
        },
        "outputId": "47c0ecdb-c492-4622-e70a-d8f9dbcf6450"
      },
      "source": [
        "#Tensor slicing\n",
        "#dict slicing 과 동일\n",
        "\n",
        "sales = torch.eye(3,3) #대각행렬 만들고 대각요소를 1로 채움 \n",
        "print(sales[1,1]) # 대각 행렬 검사\n",
        "\n",
        "# 4차원 이상의 텐서는 이미지 연속처리에 보통 사용한다.\n",
        "'''\n",
        "cats=glob(data_path+'*.jpg')\n",
        "cat_imgs=np.array([np.array(Image.open(cat).resize(224,224) for cat in cats[:64]])\n",
        "cat_imgs\n",
        "--> Tensor : 64*224*224*3 channel\n",
        "64장의 이미지 동시 로딩 라고 볼 수 있음\n",
        "'''"
      ],
      "execution_count": null,
      "outputs": [
        {
          "output_type": "execute_result",
          "data": {
            "text/plain": [
              "tensor(1.)"
            ]
          },
          "metadata": {
            "tags": []
          },
          "execution_count": 11
        }
      ]
    },
    {
      "cell_type": "code",
      "metadata": {
        "id": "Ak_748g9c1F_",
        "colab_type": "code",
        "colab": {}
      },
      "source": [
        "#Calculation\n",
        "a=torch.rand(2,2)\n",
        "b=torch.rand(2,2)\n",
        "c=a+b\n",
        "d=torch.add(a,b)\n",
        "a.add_(5)\n",
        "a*b\n",
        "a.mul(b)"
      ],
      "execution_count": null,
      "outputs": []
    },
    {
      "cell_type": "code",
      "metadata": {
        "id": "H5mBNbM_cWle",
        "colab_type": "code",
        "colab": {}
      },
      "source": [
        "\n",
        "import torch\n",
        "\n",
        "#cuda-> GPU Tensor\n",
        "\n",
        "#cpu tensor 객체\n",
        "a=torch.rand(10000,10000)\n",
        "b=torch.rand(10000,10000)\n",
        "a.matmul(b)\n",
        "\n",
        "#gpu tensor 객체로의 변환\n",
        "a=a.cuda()\n",
        "b=b.cuda()\n",
        "a.matmul(b)\n"
      ],
      "execution_count": null,
      "outputs": []
    },
    {
      "cell_type": "code",
      "metadata": {
        "id": "FIku4e8cm22i",
        "colab_type": "code",
        "colab": {
          "base_uri": "https://localhost:8080/",
          "height": 125
        },
        "outputId": "ceaf63ec-0626-4148-b9bb-97194f9a4ffb"
      },
      "source": [
        "#Variiable 가변 계산 그래프 <- Tensor 객체, 기울기, Variable생성하는 함수의 참조로 구성\n",
        "import torch\n",
        "from torch.autograd import Variable\n",
        "x=Variable(torch.ones(2,2),requires_grad=True)\n",
        "\n",
        "y=x.mean()\n",
        "y.backward() # 기울기 계산\n",
        "print(x.grad)\n",
        "print(x.grad_fn)\n",
        "print(x.data)\n",
        "print(y.grad_fn)\n",
        "\n",
        "def get_data():#처음 값 받아오기\n",
        "  train_X=np.asarray([3.3,4.4,5.5,6.71,6.93,4.168])\n",
        "  train_Y=np.asarray([1.7,2.76,2.09,3.19,1.694,1.573])\n",
        "  \n",
        "  dtype=torch.FloatTensor\n",
        "  X=Variable(torch.from_numpy(train_X)/type(dtype),requires_grad=False).view(17,1)\n",
        "  y=Variable(torch.from_numpy(train_Y)/type(dtype),requires_grad=False)\n",
        "  return X,y\n",
        "\n",
        "def get_weights(): #가중치 및 bias를 random하게 불러오기\n",
        "  w=Variable(torch.randn(1),requires_grad=True)\n",
        "  b=Variable(torch.randn(1),requires_grad=True)\n",
        "  return w,b\n",
        "\n",
        "# Network 구현\n",
        "def simple_network(x): #-> nn.Linear(17,1)\n",
        "  y_pred=torch.matmul(x,w)+b #xW+b\n",
        "  return y_pred\n",
        "\n",
        "# 손실함수 loss function\n",
        "def loss_fn(y,y_pred):\n",
        "  loss=(y_pred-y).pow(2).sum() # ^2 +^2\n",
        "  for param in [w,b]: # 각 가중치와 바이어스에 대해\n",
        "    if not param.grad is None: # gradient 값이 존재하면 \n",
        "      param.grad.data.zero_() #모두 0으로 만들어주고\n",
        "  loss.backward() # backward propagation을 통해 gradient와 나머지 계산\n",
        "  return loss.data[0]\n",
        "\n",
        "def optimize(learning_rate): # optimizing \n",
        "  w.data-=learning_rate*w.grad.data\n",
        "  b.data-=learning_rate*b.grad.data"
      ],
      "execution_count": null,
      "outputs": [
        {
          "output_type": "stream",
          "text": [
            "tensor([[0.2500, 0.2500],\n",
            "        [0.2500, 0.2500]])\n",
            "None\n",
            "tensor([[1., 1.],\n",
            "        [1., 1.]])\n",
            "<MeanBackward0 object at 0x7fc40c9f4e48>\n"
          ],
          "name": "stdout"
        }
      ]
    },
    {
      "cell_type": "code",
      "metadata": {
        "id": "1I2RamZXxXi0",
        "colab_type": "code",
        "colab": {}
      },
      "source": [
        "# Data setting\n",
        "from torch.utils.data import Dataset\n",
        "\n",
        "class DogsAndCatsDataset(Dataset):\n",
        "  def __init__(self,): #초기화\n",
        "    pass\n",
        "  def __len__(self): # 최대 요소수 반환\n",
        "    pass\n",
        "  def __getitem__(self,idx): # 데이터셋에서 idx번째 해당요소 반환\n",
        "    pass\n",
        "\n",
        "class DogsAndCatsDataset(Dataset):\n",
        "  def __init__(self,root_dir,size(224,224)):\n",
        "    self.files=glob(root_dir)\n",
        "    self.size=size\n",
        "  def __len__(self):\n",
        "    return len(self.files)\n",
        "  def __getitem__self(idx):\n",
        "    img=np.asarray(Image.open(self.files[idx])).resize(self.size))\n",
        "    label=self.files[idx].split('/')[-2]\n",
        "    return img,label\n",
        "\n",
        "# CPU에게 권장되는 인스턴스 단위 : 1\n",
        "# for image,label in dogsdset:\n",
        "# GPU에게 권장되는 인스턴스 단위 : Batch size\n",
        "\n",
        "# Data loading -> DataLoader\n",
        "from torch.utils.data import DataLoader\n",
        "dataloader=DataLoader(dogsdset,batch_size=32,num_workers=2)\n",
        "for imgs,labels in dataloader:\n",
        "  pass\n",
        "\n"
      ],
      "execution_count": null,
      "outputs": []
    },
    {
      "cell_type": "code",
      "metadata": {
        "id": "VtqNSRsT7gft",
        "colab_type": "code",
        "colab": {}
      },
      "source": [
        "#Activation Function\n",
        "\n",
        "#1.Sigmoid\n"
      ],
      "execution_count": null,
      "outputs": []
    }
  ]
}